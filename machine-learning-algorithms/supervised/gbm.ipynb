{
 "cells": [
  {
   "cell_type": "code",
   "execution_count": 1,
   "id": "dadff8fb",
   "metadata": {},
   "outputs": [],
   "source": [
    "import pandas as pd \n",
    "import numpy as np\n",
    "from sklearn.model_selection import train_test_split,GridSearchCV\n",
    "from sklearn.metrics import mean_squared_error, r2_score\n",
    "import matplotlib.pyplot as plt\n",
    "from sklearn.preprocessing import scale , StandardScaler\n",
    "from sklearn import model_selection\n",
    "from sklearn.linear_model import LinearRegression\n",
    "from sklearn.tree import DecisionTreeRegressor\n",
    "from sklearn.neighbors import KNeighborsRegressor\n",
    "from sklearn.neural_network import MLPRegressor\n",
    "from sklearn.ensemble import RandomForestRegressor, GradientBoostingRegressor\n",
    "from sklearn import neighbors\n",
    "from sklearn.svm import SVR"
   ]
  },
  {
   "cell_type": "code",
   "execution_count": 2,
   "id": "a40cb592",
   "metadata": {},
   "outputs": [],
   "source": [
    "df = pd.read_csv(\"hitters.csv\")\n",
    "df = df.dropna()\n",
    "dms = pd.get_dummies(df[['League','Division','NewLeague']])\n",
    "y = df[\"Salary\"]\n",
    "x_ = df.drop(['Salary', 'League','Division','NewLeague'],axis = 1).astype(\"float64\")\n",
    "x = pd.concat([x_, dms[['League_N','Division_W','NewLeague_N']]], axis = 1)\n",
    "x_train, x_test, y_train, y_test = train_test_split(x,\n",
    "                                                    y, \n",
    "                                                    test_size = 0.33,\n",
    "                                                    random_state = 42)"
   ]
  },
  {
   "cell_type": "code",
   "execution_count": 3,
   "id": "fb8173fd",
   "metadata": {},
   "outputs": [],
   "source": [
    "gbm_model= GradientBoostingRegressor().fit(x_train, y_train)"
   ]
  },
  {
   "cell_type": "code",
   "execution_count": 5,
   "id": "6275ab47",
   "metadata": {},
   "outputs": [
    {
     "data": {
      "text/plain": [
       "387.9040690807161"
      ]
     },
     "execution_count": 5,
     "metadata": {},
     "output_type": "execute_result"
    }
   ],
   "source": [
    "y_pred= gbm_model.predict(x_test)\n",
    "np.sqrt(mean_squared_error(y_test, y_pred))"
   ]
  },
  {
   "cell_type": "markdown",
   "id": "4f13a734",
   "metadata": {},
   "source": [
    "# Model Tuning"
   ]
  },
  {
   "cell_type": "code",
   "execution_count": 6,
   "id": "4c91592f",
   "metadata": {},
   "outputs": [
    {
     "name": "stderr",
     "output_type": "stream",
     "text": [
      "/Library/Frameworks/Python.framework/Versions/3.10/lib/python3.10/site-packages/sklearn/model_selection/_validation.py:378: FitFailedWarning: \n",
      "1280 fits failed out of a total of 2560.\n",
      "The score on these train-test partitions for these parameters will be set to nan.\n",
      "If these failures are not expected, you can try to debug them by setting error_score='raise'.\n",
      "\n",
      "Below are more details about the failures:\n",
      "--------------------------------------------------------------------------------\n",
      "640 fits failed with the following error:\n",
      "Traceback (most recent call last):\n",
      "  File \"/Library/Frameworks/Python.framework/Versions/3.10/lib/python3.10/site-packages/sklearn/model_selection/_validation.py\", line 686, in _fit_and_score\n",
      "    estimator.fit(X_train, y_train, **fit_params)\n",
      "  File \"/Library/Frameworks/Python.framework/Versions/3.10/lib/python3.10/site-packages/sklearn/ensemble/_gb.py\", line 420, in fit\n",
      "    self._validate_params()\n",
      "  File \"/Library/Frameworks/Python.framework/Versions/3.10/lib/python3.10/site-packages/sklearn/base.py\", line 581, in _validate_params\n",
      "    validate_parameter_constraints(\n",
      "  File \"/Library/Frameworks/Python.framework/Versions/3.10/lib/python3.10/site-packages/sklearn/utils/_param_validation.py\", line 97, in validate_parameter_constraints\n",
      "    raise InvalidParameterError(\n",
      "sklearn.utils._param_validation.InvalidParameterError: The 'subsample' parameter of GradientBoostingRegressor must be a float in the range (0.0, 1.0]. Got 0 instead.\n",
      "\n",
      "--------------------------------------------------------------------------------\n",
      "640 fits failed with the following error:\n",
      "Traceback (most recent call last):\n",
      "  File \"/Library/Frameworks/Python.framework/Versions/3.10/lib/python3.10/site-packages/sklearn/model_selection/_validation.py\", line 686, in _fit_and_score\n",
      "    estimator.fit(X_train, y_train, **fit_params)\n",
      "  File \"/Library/Frameworks/Python.framework/Versions/3.10/lib/python3.10/site-packages/sklearn/ensemble/_gb.py\", line 420, in fit\n",
      "    self._validate_params()\n",
      "  File \"/Library/Frameworks/Python.framework/Versions/3.10/lib/python3.10/site-packages/sklearn/base.py\", line 581, in _validate_params\n",
      "    validate_parameter_constraints(\n",
      "  File \"/Library/Frameworks/Python.framework/Versions/3.10/lib/python3.10/site-packages/sklearn/utils/_param_validation.py\", line 97, in validate_parameter_constraints\n",
      "    raise InvalidParameterError(\n",
      "sklearn.utils._param_validation.InvalidParameterError: The 'subsample' parameter of GradientBoostingRegressor must be a float in the range (0.0, 1.0]. Got 5 instead.\n",
      "\n",
      "  warnings.warn(some_fits_failed_message, FitFailedWarning)\n",
      "/Library/Frameworks/Python.framework/Versions/3.10/lib/python3.10/site-packages/sklearn/model_selection/_search.py:952: UserWarning: One or more of the test scores are non-finite: [0.03933385        nan        nan 0.03858554 0.15472944        nan\n",
      "        nan 0.15055298 0.24665488        nan        nan 0.23912986\n",
      " 0.31660877        nan        nan 0.31293485 0.04587652        nan\n",
      "        nan 0.0455075  0.15884576        nan        nan 0.16261196\n",
      " 0.24553729        nan        nan 0.25485826 0.31310859        nan\n",
      "        nan 0.33208868 0.05175935        nan        nan 0.04813444\n",
      " 0.16589618        nan        nan 0.16279117 0.24688721        nan\n",
      "        nan 0.25552604 0.30528614        nan        nan 0.32869568\n",
      " 0.0506716         nan        nan 0.04677596 0.16411332        nan\n",
      "        nan 0.1633073  0.24458518        nan        nan 0.25696085\n",
      " 0.30150522        nan        nan 0.32942057 0.58190902        nan\n",
      "        nan 0.58723991 0.58187635        nan        nan 0.55135074\n",
      " 0.57890506        nan        nan 0.56016615 0.5951248         nan\n",
      "        nan 0.57671664 0.44709348        nan        nan 0.48307034\n",
      " 0.46866339        nan        nan 0.55263603 0.41654802        nan\n",
      "        nan 0.50261926 0.44370279        nan        nan 0.50877416\n",
      " 0.22632933        nan        nan 0.48885098 0.224567          nan\n",
      "        nan 0.53011882 0.26009801        nan        nan 0.51621223\n",
      " 0.24820443        nan        nan 0.48239766 0.15580366        nan\n",
      "        nan 0.46644231 0.08688046        nan        nan 0.47034908\n",
      " 0.10451794        nan        nan 0.44620648 0.1510167         nan\n",
      "        nan 0.51536822 0.52016541        nan        nan 0.52835509\n",
      " 0.56768939        nan        nan 0.57594398 0.57180858        nan\n",
      "        nan 0.57582081 0.57662837        nan        nan 0.58073152\n",
      " 0.50885569        nan        nan 0.53544377 0.51880508        nan\n",
      "        nan 0.56777566 0.49102438        nan        nan 0.5529137\n",
      " 0.48222438        nan        nan 0.5446409  0.39471406        nan\n",
      "        nan 0.53860561 0.32337647        nan        nan 0.53414878\n",
      " 0.2668821         nan        nan 0.52923644 0.23432865        nan\n",
      "        nan 0.51957916 0.37815108        nan        nan 0.51809133\n",
      " 0.24800657        nan        nan 0.53857737 0.17760272        nan\n",
      "        nan 0.51417758 0.15275374        nan        nan 0.49886058\n",
      " 0.40619135        nan        nan 0.36242232 0.41802529        nan\n",
      "        nan 0.55840043 0.40469006        nan        nan 0.42085447\n",
      " 0.4266419         nan        nan 0.45054474 0.36243127        nan\n",
      "        nan 0.33989833 0.24307579        nan        nan 0.40716438\n",
      " 0.39477442        nan        nan 0.42323023 0.26711706        nan\n",
      "        nan 0.30734408 0.258908          nan        nan 0.44697781\n",
      " 0.03941541        nan        nan 0.356979   0.23837693        nan\n",
      "        nan 0.41122504 0.1547936         nan        nan 0.09501719\n",
      " 0.12167512        nan        nan 0.32142408 0.07567574        nan\n",
      "        nan 0.50307101 0.02168244        nan        nan 0.50075213\n",
      " 0.12219852        nan        nan 0.34951238]\n",
      "  warnings.warn(\n"
     ]
    }
   ],
   "source": [
    "gbm_params= {'learning_rate': [0.001,0.1,0.01,0.5],\n",
    "            'max_depth': [3,5,8,10],\n",
    "            'n_estimators': [100,200,300,400],\n",
    "            \"subsample\": [1,0,5,0.8]}\n",
    "gbm_cv_model= GridSearchCV(gbm_model, gbm_params, cv= 10).fit(x_train, y_train)"
   ]
  },
  {
   "cell_type": "code",
   "execution_count": 7,
   "id": "f1695d83",
   "metadata": {},
   "outputs": [
    {
     "data": {
      "text/plain": [
       "{'learning_rate': 0.1, 'max_depth': 3, 'n_estimators': 400, 'subsample': 1}"
      ]
     },
     "execution_count": 7,
     "metadata": {},
     "output_type": "execute_result"
    }
   ],
   "source": [
    "gbm_cv_model.best_params_"
   ]
  },
  {
   "cell_type": "code",
   "execution_count": 10,
   "id": "57c7655d",
   "metadata": {},
   "outputs": [],
   "source": [
    "gbm_tuned= GradientBoostingRegressor(learning_rate= 0.1, max_depth= 3, n_estimators= 400,subsample= 1).fit(x_train, y_train)\n"
   ]
  },
  {
   "cell_type": "code",
   "execution_count": null,
   "id": "b538a58f",
   "metadata": {},
   "outputs": [],
   "source": []
  }
 ],
 "metadata": {
  "kernelspec": {
   "display_name": "Python 3 (ipykernel)",
   "language": "python",
   "name": "python3"
  },
  "language_info": {
   "codemirror_mode": {
    "name": "ipython",
    "version": 3
   },
   "file_extension": ".py",
   "mimetype": "text/x-python",
   "name": "python",
   "nbconvert_exporter": "python",
   "pygments_lexer": "ipython3",
   "version": "3.10.9"
  }
 },
 "nbformat": 4,
 "nbformat_minor": 5
}
