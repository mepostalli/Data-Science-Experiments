{
 "cells": [
  {
   "cell_type": "code",
   "execution_count": 1,
   "id": "13a7b8b2",
   "metadata": {},
   "outputs": [],
   "source": [
    "import pandas as pd \n",
    "import numpy as np\n",
    "from sklearn.model_selection import train_test_split,GridSearchCV\n",
    "from sklearn.metrics import mean_squared_error, r2_score\n",
    "import matplotlib.pyplot as plt\n",
    "from sklearn.preprocessing import scale , StandardScaler\n",
    "from sklearn import model_selection\n",
    "from sklearn.linear_model import LinearRegression\n",
    "from sklearn.tree import DecisionTreeRegressor\n",
    "from sklearn.neighbors import KNeighborsRegressor\n",
    "from sklearn.neural_network import MLPRegressor\n",
    "from sklearn.ensemble import RandomForestRegressor, GradientBoostingRegressor\n",
    "from sklearn import neighbors\n",
    "from sklearn.svm import SVR"
   ]
  },
  {
   "cell_type": "code",
   "execution_count": 4,
   "id": "a8f016d8",
   "metadata": {},
   "outputs": [],
   "source": [
    "df = pd.read_csv(\"hitters.csv\")\n",
    "df= df.dropna()\n",
    "dms = pd.get_dummies(df[['League','Division','NewLeague']])\n",
    "y = df[\"Salary\"]\n",
    "x_ = df.drop(['Salary','League','Division','NewLeague'],axis=1).astype(\"float64\")\n",
    "x = pd.concat([x_,dms[['League_N','Division_W','NewLeague_N']]],axis =1)\n",
    "x_train, x_test, y_train, y_test = train_test_split(x, y , test_size = 0.25, random_state=99)"
   ]
  },
  {
   "cell_type": "markdown",
   "id": "62726e19",
   "metadata": {},
   "source": [
    "# Model tahmin"
   ]
  },
  {
   "cell_type": "code",
   "execution_count": 5,
   "id": "314e2437",
   "metadata": {},
   "outputs": [],
   "source": [
    "scaler = StandardScaler()"
   ]
  },
  {
   "cell_type": "code",
   "execution_count": 8,
   "id": "63e6955e",
   "metadata": {},
   "outputs": [],
   "source": [
    "scaler.fit(x_train, y_train)\n",
    "x_train_scaled = scaler.transform(x_train)"
   ]
  },
  {
   "cell_type": "code",
   "execution_count": 9,
   "id": "a3eca6c0",
   "metadata": {},
   "outputs": [
    {
     "data": {
      "text/html": [
       "<style>#sk-container-id-2 {color: black;background-color: white;}#sk-container-id-2 pre{padding: 0;}#sk-container-id-2 div.sk-toggleable {background-color: white;}#sk-container-id-2 label.sk-toggleable__label {cursor: pointer;display: block;width: 100%;margin-bottom: 0;padding: 0.3em;box-sizing: border-box;text-align: center;}#sk-container-id-2 label.sk-toggleable__label-arrow:before {content: \"▸\";float: left;margin-right: 0.25em;color: #696969;}#sk-container-id-2 label.sk-toggleable__label-arrow:hover:before {color: black;}#sk-container-id-2 div.sk-estimator:hover label.sk-toggleable__label-arrow:before {color: black;}#sk-container-id-2 div.sk-toggleable__content {max-height: 0;max-width: 0;overflow: hidden;text-align: left;background-color: #f0f8ff;}#sk-container-id-2 div.sk-toggleable__content pre {margin: 0.2em;color: black;border-radius: 0.25em;background-color: #f0f8ff;}#sk-container-id-2 input.sk-toggleable__control:checked~div.sk-toggleable__content {max-height: 200px;max-width: 100%;overflow: auto;}#sk-container-id-2 input.sk-toggleable__control:checked~label.sk-toggleable__label-arrow:before {content: \"▾\";}#sk-container-id-2 div.sk-estimator input.sk-toggleable__control:checked~label.sk-toggleable__label {background-color: #d4ebff;}#sk-container-id-2 div.sk-label input.sk-toggleable__control:checked~label.sk-toggleable__label {background-color: #d4ebff;}#sk-container-id-2 input.sk-hidden--visually {border: 0;clip: rect(1px 1px 1px 1px);clip: rect(1px, 1px, 1px, 1px);height: 1px;margin: -1px;overflow: hidden;padding: 0;position: absolute;width: 1px;}#sk-container-id-2 div.sk-estimator {font-family: monospace;background-color: #f0f8ff;border: 1px dotted black;border-radius: 0.25em;box-sizing: border-box;margin-bottom: 0.5em;}#sk-container-id-2 div.sk-estimator:hover {background-color: #d4ebff;}#sk-container-id-2 div.sk-parallel-item::after {content: \"\";width: 100%;border-bottom: 1px solid gray;flex-grow: 1;}#sk-container-id-2 div.sk-label:hover label.sk-toggleable__label {background-color: #d4ebff;}#sk-container-id-2 div.sk-serial::before {content: \"\";position: absolute;border-left: 1px solid gray;box-sizing: border-box;top: 0;bottom: 0;left: 50%;z-index: 0;}#sk-container-id-2 div.sk-serial {display: flex;flex-direction: column;align-items: center;background-color: white;padding-right: 0.2em;padding-left: 0.2em;position: relative;}#sk-container-id-2 div.sk-item {position: relative;z-index: 1;}#sk-container-id-2 div.sk-parallel {display: flex;align-items: stretch;justify-content: center;background-color: white;position: relative;}#sk-container-id-2 div.sk-item::before, #sk-container-id-2 div.sk-parallel-item::before {content: \"\";position: absolute;border-left: 1px solid gray;box-sizing: border-box;top: 0;bottom: 0;left: 50%;z-index: -1;}#sk-container-id-2 div.sk-parallel-item {display: flex;flex-direction: column;z-index: 1;position: relative;background-color: white;}#sk-container-id-2 div.sk-parallel-item:first-child::after {align-self: flex-end;width: 50%;}#sk-container-id-2 div.sk-parallel-item:last-child::after {align-self: flex-start;width: 50%;}#sk-container-id-2 div.sk-parallel-item:only-child::after {width: 0;}#sk-container-id-2 div.sk-dashed-wrapped {border: 1px dashed gray;margin: 0 0.4em 0.5em 0.4em;box-sizing: border-box;padding-bottom: 0.4em;background-color: white;}#sk-container-id-2 div.sk-label label {font-family: monospace;font-weight: bold;display: inline-block;line-height: 1.2em;}#sk-container-id-2 div.sk-label-container {text-align: center;}#sk-container-id-2 div.sk-container {/* jupyter's `normalize.less` sets `[hidden] { display: none; }` but bootstrap.min.css set `[hidden] { display: none !important; }` so we also need the `!important` here to be able to override the default hidden behavior on the sphinx rendered scikit-learn.org. See: https://github.com/scikit-learn/scikit-learn/issues/21755 */display: inline-block !important;position: relative;}#sk-container-id-2 div.sk-text-repr-fallback {display: none;}</style><div id=\"sk-container-id-2\" class=\"sk-top-container\"><div class=\"sk-text-repr-fallback\"><pre>StandardScaler()</pre><b>In a Jupyter environment, please rerun this cell to show the HTML representation or trust the notebook. <br />On GitHub, the HTML representation is unable to render, please try loading this page with nbviewer.org.</b></div><div class=\"sk-container\" hidden><div class=\"sk-item\"><div class=\"sk-estimator sk-toggleable\"><input class=\"sk-toggleable__control sk-hidden--visually\" id=\"sk-estimator-id-2\" type=\"checkbox\" checked><label for=\"sk-estimator-id-2\" class=\"sk-toggleable__label sk-toggleable__label-arrow\">StandardScaler</label><div class=\"sk-toggleable__content\"><pre>StandardScaler()</pre></div></div></div></div></div>"
      ],
      "text/plain": [
       "StandardScaler()"
      ]
     },
     "execution_count": 9,
     "metadata": {},
     "output_type": "execute_result"
    }
   ],
   "source": [
    "scaler.fit(x_test)"
   ]
  },
  {
   "cell_type": "code",
   "execution_count": 10,
   "id": "fd5e47c2",
   "metadata": {},
   "outputs": [],
   "source": [
    "x_test_scaled = scaler.transform(x_test)"
   ]
  },
  {
   "cell_type": "code",
   "execution_count": 11,
   "id": "74c8a1d8",
   "metadata": {},
   "outputs": [
    {
     "name": "stderr",
     "output_type": "stream",
     "text": [
      "/Library/Frameworks/Python.framework/Versions/3.10/lib/python3.10/site-packages/sklearn/neural_network/_multilayer_perceptron.py:684: ConvergenceWarning: Stochastic Optimizer: Maximum iterations (200) reached and the optimization hasn't converged yet.\n",
      "  warnings.warn(\n"
     ]
    }
   ],
   "source": [
    "mlp_model = MLPRegressor().fit(x_train_scaled, y_train)"
   ]
  },
  {
   "cell_type": "code",
   "execution_count": 12,
   "id": "51549516",
   "metadata": {},
   "outputs": [
    {
     "data": {
      "text/html": [
       "<style>#sk-container-id-3 {color: black;background-color: white;}#sk-container-id-3 pre{padding: 0;}#sk-container-id-3 div.sk-toggleable {background-color: white;}#sk-container-id-3 label.sk-toggleable__label {cursor: pointer;display: block;width: 100%;margin-bottom: 0;padding: 0.3em;box-sizing: border-box;text-align: center;}#sk-container-id-3 label.sk-toggleable__label-arrow:before {content: \"▸\";float: left;margin-right: 0.25em;color: #696969;}#sk-container-id-3 label.sk-toggleable__label-arrow:hover:before {color: black;}#sk-container-id-3 div.sk-estimator:hover label.sk-toggleable__label-arrow:before {color: black;}#sk-container-id-3 div.sk-toggleable__content {max-height: 0;max-width: 0;overflow: hidden;text-align: left;background-color: #f0f8ff;}#sk-container-id-3 div.sk-toggleable__content pre {margin: 0.2em;color: black;border-radius: 0.25em;background-color: #f0f8ff;}#sk-container-id-3 input.sk-toggleable__control:checked~div.sk-toggleable__content {max-height: 200px;max-width: 100%;overflow: auto;}#sk-container-id-3 input.sk-toggleable__control:checked~label.sk-toggleable__label-arrow:before {content: \"▾\";}#sk-container-id-3 div.sk-estimator input.sk-toggleable__control:checked~label.sk-toggleable__label {background-color: #d4ebff;}#sk-container-id-3 div.sk-label input.sk-toggleable__control:checked~label.sk-toggleable__label {background-color: #d4ebff;}#sk-container-id-3 input.sk-hidden--visually {border: 0;clip: rect(1px 1px 1px 1px);clip: rect(1px, 1px, 1px, 1px);height: 1px;margin: -1px;overflow: hidden;padding: 0;position: absolute;width: 1px;}#sk-container-id-3 div.sk-estimator {font-family: monospace;background-color: #f0f8ff;border: 1px dotted black;border-radius: 0.25em;box-sizing: border-box;margin-bottom: 0.5em;}#sk-container-id-3 div.sk-estimator:hover {background-color: #d4ebff;}#sk-container-id-3 div.sk-parallel-item::after {content: \"\";width: 100%;border-bottom: 1px solid gray;flex-grow: 1;}#sk-container-id-3 div.sk-label:hover label.sk-toggleable__label {background-color: #d4ebff;}#sk-container-id-3 div.sk-serial::before {content: \"\";position: absolute;border-left: 1px solid gray;box-sizing: border-box;top: 0;bottom: 0;left: 50%;z-index: 0;}#sk-container-id-3 div.sk-serial {display: flex;flex-direction: column;align-items: center;background-color: white;padding-right: 0.2em;padding-left: 0.2em;position: relative;}#sk-container-id-3 div.sk-item {position: relative;z-index: 1;}#sk-container-id-3 div.sk-parallel {display: flex;align-items: stretch;justify-content: center;background-color: white;position: relative;}#sk-container-id-3 div.sk-item::before, #sk-container-id-3 div.sk-parallel-item::before {content: \"\";position: absolute;border-left: 1px solid gray;box-sizing: border-box;top: 0;bottom: 0;left: 50%;z-index: -1;}#sk-container-id-3 div.sk-parallel-item {display: flex;flex-direction: column;z-index: 1;position: relative;background-color: white;}#sk-container-id-3 div.sk-parallel-item:first-child::after {align-self: flex-end;width: 50%;}#sk-container-id-3 div.sk-parallel-item:last-child::after {align-self: flex-start;width: 50%;}#sk-container-id-3 div.sk-parallel-item:only-child::after {width: 0;}#sk-container-id-3 div.sk-dashed-wrapped {border: 1px dashed gray;margin: 0 0.4em 0.5em 0.4em;box-sizing: border-box;padding-bottom: 0.4em;background-color: white;}#sk-container-id-3 div.sk-label label {font-family: monospace;font-weight: bold;display: inline-block;line-height: 1.2em;}#sk-container-id-3 div.sk-label-container {text-align: center;}#sk-container-id-3 div.sk-container {/* jupyter's `normalize.less` sets `[hidden] { display: none; }` but bootstrap.min.css set `[hidden] { display: none !important; }` so we also need the `!important` here to be able to override the default hidden behavior on the sphinx rendered scikit-learn.org. See: https://github.com/scikit-learn/scikit-learn/issues/21755 */display: inline-block !important;position: relative;}#sk-container-id-3 div.sk-text-repr-fallback {display: none;}</style><div id=\"sk-container-id-3\" class=\"sk-top-container\"><div class=\"sk-text-repr-fallback\"><pre>MLPRegressor()</pre><b>In a Jupyter environment, please rerun this cell to show the HTML representation or trust the notebook. <br />On GitHub, the HTML representation is unable to render, please try loading this page with nbviewer.org.</b></div><div class=\"sk-container\" hidden><div class=\"sk-item\"><div class=\"sk-estimator sk-toggleable\"><input class=\"sk-toggleable__control sk-hidden--visually\" id=\"sk-estimator-id-3\" type=\"checkbox\" checked><label for=\"sk-estimator-id-3\" class=\"sk-toggleable__label sk-toggleable__label-arrow\">MLPRegressor</label><div class=\"sk-toggleable__content\"><pre>MLPRegressor()</pre></div></div></div></div></div>"
      ],
      "text/plain": [
       "MLPRegressor()"
      ]
     },
     "execution_count": 12,
     "metadata": {},
     "output_type": "execute_result"
    }
   ],
   "source": [
    "mlp_model"
   ]
  },
  {
   "cell_type": "code",
   "execution_count": 13,
   "id": "8aa572d2",
   "metadata": {},
   "outputs": [],
   "source": [
    "y_pred = mlp_model.predict(x_test_scaled)"
   ]
  },
  {
   "cell_type": "code",
   "execution_count": 14,
   "id": "4fb10831",
   "metadata": {},
   "outputs": [
    {
     "data": {
      "text/plain": [
       "776.1250758440797"
      ]
     },
     "execution_count": 14,
     "metadata": {},
     "output_type": "execute_result"
    }
   ],
   "source": [
    "np.sqrt(mean_squared_error(y_test,y_pred))"
   ]
  },
  {
   "cell_type": "markdown",
   "id": "e77e3ebf",
   "metadata": {},
   "source": [
    "# Model Tuning"
   ]
  },
  {
   "cell_type": "code",
   "execution_count": 18,
   "id": "b04a676c",
   "metadata": {},
   "outputs": [],
   "source": [
    "mlp_params = {\"alpha\" : [0.1,0.01,0.02,0.001,0.0001],\n",
    "             \"hidden_layer_sizes\": [(10,2),(5,5),(100,100)]}\n",
    "from warnings import filterwarnings\n",
    "filterwarnings('ignore')"
   ]
  },
  {
   "cell_type": "code",
   "execution_count": null,
   "id": "d00d3d5b",
   "metadata": {},
   "outputs": [
    {
     "name": "stdout",
     "output_type": "stream",
     "text": [
      "Fitting 10 folds for each of 15 candidates, totalling 150 fits\n",
      "[CV] END ..............alpha=0.1, hidden_layer_sizes=(10, 2); total time=   0.1s\n",
      "[CV] END ..............alpha=0.1, hidden_layer_sizes=(10, 2); total time=   0.0s\n",
      "[CV] END ..............alpha=0.1, hidden_layer_sizes=(10, 2); total time=   0.0s\n",
      "[CV] END ..............alpha=0.1, hidden_layer_sizes=(10, 2); total time=   0.0s\n",
      "[CV] END ..............alpha=0.1, hidden_layer_sizes=(10, 2); total time=   0.0s\n",
      "[CV] END ..............alpha=0.1, hidden_layer_sizes=(10, 2); total time=   0.0s\n",
      "[CV] END ..............alpha=0.1, hidden_layer_sizes=(10, 2); total time=   0.0s\n",
      "[CV] END ..............alpha=0.1, hidden_layer_sizes=(10, 2); total time=   0.0s\n",
      "[CV] END ..............alpha=0.1, hidden_layer_sizes=(10, 2); total time=   0.0s\n",
      "[CV] END ..............alpha=0.1, hidden_layer_sizes=(10, 2); total time=   0.0s\n",
      "[CV] END ...............alpha=0.1, hidden_layer_sizes=(5, 5); total time=   0.0s\n",
      "[CV] END ...............alpha=0.1, hidden_layer_sizes=(5, 5); total time=   0.0s\n",
      "[CV] END ...............alpha=0.1, hidden_layer_sizes=(5, 5); total time=   0.0s\n",
      "[CV] END ...............alpha=0.1, hidden_layer_sizes=(5, 5); total time=   0.0s\n",
      "[CV] END ...............alpha=0.1, hidden_layer_sizes=(5, 5); total time=   0.0s\n",
      "[CV] END ...............alpha=0.1, hidden_layer_sizes=(5, 5); total time=   0.0s\n",
      "[CV] END ...............alpha=0.1, hidden_layer_sizes=(5, 5); total time=   0.0s\n",
      "[CV] END ...............alpha=0.1, hidden_layer_sizes=(5, 5); total time=   0.0s\n",
      "[CV] END ...............alpha=0.1, hidden_layer_sizes=(5, 5); total time=   0.0s\n",
      "[CV] END ...............alpha=0.1, hidden_layer_sizes=(5, 5); total time=   0.0s\n",
      "[CV] END ...........alpha=0.1, hidden_layer_sizes=(100, 100); total time=   0.2s\n",
      "[CV] END ...........alpha=0.1, hidden_layer_sizes=(100, 100); total time=   0.2s\n",
      "[CV] END ...........alpha=0.1, hidden_layer_sizes=(100, 100); total time=   0.2s\n",
      "[CV] END ...........alpha=0.1, hidden_layer_sizes=(100, 100); total time=   0.2s\n",
      "[CV] END ...........alpha=0.1, hidden_layer_sizes=(100, 100); total time=   0.2s\n",
      "[CV] END ...........alpha=0.1, hidden_layer_sizes=(100, 100); total time=   0.2s\n",
      "[CV] END ...........alpha=0.1, hidden_layer_sizes=(100, 100); total time=   0.2s\n",
      "[CV] END ...........alpha=0.1, hidden_layer_sizes=(100, 100); total time=   0.3s\n",
      "[CV] END ...........alpha=0.1, hidden_layer_sizes=(100, 100); total time=   0.2s\n",
      "[CV] END ...........alpha=0.1, hidden_layer_sizes=(100, 100); total time=   0.2s\n",
      "[CV] END .............alpha=0.01, hidden_layer_sizes=(10, 2); total time=   0.0s\n",
      "[CV] END .............alpha=0.01, hidden_layer_sizes=(10, 2); total time=   0.0s\n",
      "[CV] END .............alpha=0.01, hidden_layer_sizes=(10, 2); total time=   0.0s\n",
      "[CV] END .............alpha=0.01, hidden_layer_sizes=(10, 2); total time=   0.0s\n",
      "[CV] END .............alpha=0.01, hidden_layer_sizes=(10, 2); total time=   0.1s\n",
      "[CV] END .............alpha=0.01, hidden_layer_sizes=(10, 2); total time=   0.0s\n",
      "[CV] END .............alpha=0.01, hidden_layer_sizes=(10, 2); total time=   0.0s\n",
      "[CV] END .............alpha=0.01, hidden_layer_sizes=(10, 2); total time=   0.0s\n",
      "[CV] END .............alpha=0.01, hidden_layer_sizes=(10, 2); total time=   0.0s\n",
      "[CV] END .............alpha=0.01, hidden_layer_sizes=(10, 2); total time=   0.0s\n",
      "[CV] END ..............alpha=0.01, hidden_layer_sizes=(5, 5); total time=   0.0s\n",
      "[CV] END ..............alpha=0.01, hidden_layer_sizes=(5, 5); total time=   0.0s\n",
      "[CV] END ..............alpha=0.01, hidden_layer_sizes=(5, 5); total time=   0.0s\n",
      "[CV] END ..............alpha=0.01, hidden_layer_sizes=(5, 5); total time=   0.0s\n",
      "[CV] END ..............alpha=0.01, hidden_layer_sizes=(5, 5); total time=   0.0s\n",
      "[CV] END ..............alpha=0.01, hidden_layer_sizes=(5, 5); total time=   0.0s\n",
      "[CV] END ..............alpha=0.01, hidden_layer_sizes=(5, 5); total time=   0.0s\n",
      "[CV] END ..............alpha=0.01, hidden_layer_sizes=(5, 5); total time=   0.0s\n",
      "[CV] END ..............alpha=0.01, hidden_layer_sizes=(5, 5); total time=   0.0s\n",
      "[CV] END ..............alpha=0.01, hidden_layer_sizes=(5, 5); total time=   0.0s\n",
      "[CV] END ..........alpha=0.01, hidden_layer_sizes=(100, 100); total time=   0.2s\n",
      "[CV] END ..........alpha=0.01, hidden_layer_sizes=(100, 100); total time=   0.2s\n",
      "[CV] END ..........alpha=0.01, hidden_layer_sizes=(100, 100); total time=   0.3s\n",
      "[CV] END ..........alpha=0.01, hidden_layer_sizes=(100, 100); total time=   0.3s\n",
      "[CV] END ..........alpha=0.01, hidden_layer_sizes=(100, 100); total time=   0.3s\n",
      "[CV] END ..........alpha=0.01, hidden_layer_sizes=(100, 100); total time=   0.3s\n",
      "[CV] END ..........alpha=0.01, hidden_layer_sizes=(100, 100); total time=   0.3s\n",
      "[CV] END ..........alpha=0.01, hidden_layer_sizes=(100, 100); total time=   0.3s\n",
      "[CV] END ..........alpha=0.01, hidden_layer_sizes=(100, 100); total time=   0.3s\n",
      "[CV] END ..........alpha=0.01, hidden_layer_sizes=(100, 100); total time=   0.3s\n",
      "[CV] END .............alpha=0.02, hidden_layer_sizes=(10, 2); total time=   0.1s\n",
      "[CV] END .............alpha=0.02, hidden_layer_sizes=(10, 2); total time=   0.0s\n",
      "[CV] END .............alpha=0.02, hidden_layer_sizes=(10, 2); total time=   0.0s\n",
      "[CV] END .............alpha=0.02, hidden_layer_sizes=(10, 2); total time=   0.0s\n",
      "[CV] END .............alpha=0.02, hidden_layer_sizes=(10, 2); total time=   0.1s\n",
      "[CV] END .............alpha=0.02, hidden_layer_sizes=(10, 2); total time=   0.0s\n",
      "[CV] END .............alpha=0.02, hidden_layer_sizes=(10, 2); total time=   0.0s\n",
      "[CV] END .............alpha=0.02, hidden_layer_sizes=(10, 2); total time=   0.0s\n",
      "[CV] END .............alpha=0.02, hidden_layer_sizes=(10, 2); total time=   0.0s\n",
      "[CV] END .............alpha=0.02, hidden_layer_sizes=(10, 2); total time=   0.0s\n",
      "[CV] END ..............alpha=0.02, hidden_layer_sizes=(5, 5); total time=   0.0s\n",
      "[CV] END ..............alpha=0.02, hidden_layer_sizes=(5, 5); total time=   0.0s\n",
      "[CV] END ..............alpha=0.02, hidden_layer_sizes=(5, 5); total time=   0.0s\n",
      "[CV] END ..............alpha=0.02, hidden_layer_sizes=(5, 5); total time=   0.0s\n",
      "[CV] END ..............alpha=0.02, hidden_layer_sizes=(5, 5); total time=   0.0s\n",
      "[CV] END ..............alpha=0.02, hidden_layer_sizes=(5, 5); total time=   0.0s\n",
      "[CV] END ..............alpha=0.02, hidden_layer_sizes=(5, 5); total time=   0.0s\n",
      "[CV] END ..............alpha=0.02, hidden_layer_sizes=(5, 5); total time=   0.0s\n",
      "[CV] END ..............alpha=0.02, hidden_layer_sizes=(5, 5); total time=   0.0s\n",
      "[CV] END ..............alpha=0.02, hidden_layer_sizes=(5, 5); total time=   0.0s\n",
      "[CV] END ..........alpha=0.02, hidden_layer_sizes=(100, 100); total time=   0.2s\n",
      "[CV] END ..........alpha=0.02, hidden_layer_sizes=(100, 100); total time=   0.2s\n",
      "[CV] END ..........alpha=0.02, hidden_layer_sizes=(100, 100); total time=   0.2s\n",
      "[CV] END ..........alpha=0.02, hidden_layer_sizes=(100, 100); total time=   0.2s\n",
      "[CV] END ..........alpha=0.02, hidden_layer_sizes=(100, 100); total time=   0.2s\n",
      "[CV] END ..........alpha=0.02, hidden_layer_sizes=(100, 100); total time=   0.2s\n",
      "[CV] END ..........alpha=0.02, hidden_layer_sizes=(100, 100); total time=   0.2s\n",
      "[CV] END ..........alpha=0.02, hidden_layer_sizes=(100, 100); total time=   0.2s\n",
      "[CV] END ..........alpha=0.02, hidden_layer_sizes=(100, 100); total time=   0.3s\n",
      "[CV] END ..........alpha=0.02, hidden_layer_sizes=(100, 100); total time=   0.3s\n",
      "[CV] END ............alpha=0.001, hidden_layer_sizes=(10, 2); total time=   0.0s\n",
      "[CV] END ............alpha=0.001, hidden_layer_sizes=(10, 2); total time=   0.0s\n",
      "[CV] END ............alpha=0.001, hidden_layer_sizes=(10, 2); total time=   0.0s\n",
      "[CV] END ............alpha=0.001, hidden_layer_sizes=(10, 2); total time=   0.0s\n",
      "[CV] END ............alpha=0.001, hidden_layer_sizes=(10, 2); total time=   0.1s\n",
      "[CV] END ............alpha=0.001, hidden_layer_sizes=(10, 2); total time=   0.1s\n",
      "[CV] END ............alpha=0.001, hidden_layer_sizes=(10, 2); total time=   0.0s\n",
      "[CV] END ............alpha=0.001, hidden_layer_sizes=(10, 2); total time=   0.0s\n",
      "[CV] END ............alpha=0.001, hidden_layer_sizes=(10, 2); total time=   0.0s\n",
      "[CV] END ............alpha=0.001, hidden_layer_sizes=(10, 2); total time=   0.0s\n",
      "[CV] END .............alpha=0.001, hidden_layer_sizes=(5, 5); total time=   0.0s\n",
      "[CV] END .............alpha=0.001, hidden_layer_sizes=(5, 5); total time=   0.0s\n",
      "[CV] END .............alpha=0.001, hidden_layer_sizes=(5, 5); total time=   0.0s\n"
     ]
    }
   ],
   "source": [
    "mlp_cv_model = GridSearchCV(mlp_model, mlp_params, cv = 10, verbose = 2).fit(x_train_scaled, y_train)"
   ]
  },
  {
   "cell_type": "code",
   "execution_count": 20,
   "id": "cf724d9e",
   "metadata": {},
   "outputs": [
    {
     "data": {
      "text/plain": [
       "{'alpha': 0.1, 'hidden_layer_sizes': (100, 100)}"
      ]
     },
     "execution_count": 20,
     "metadata": {},
     "output_type": "execute_result"
    }
   ],
   "source": [
    "mlp_cv_model.best_params_"
   ]
  },
  {
   "cell_type": "code",
   "execution_count": 22,
   "id": "d09cb22b",
   "metadata": {},
   "outputs": [],
   "source": [
    "#final \n",
    "mlp_tuned = MLPRegressor(alpha = 0.1, hidden_layer_sizes=(100,100)).fit(x_train_scaled, y_train)"
   ]
  },
  {
   "cell_type": "code",
   "execution_count": 24,
   "id": "9dbbb956",
   "metadata": {},
   "outputs": [],
   "source": [
    "y_pred = mlp_tuned.predict(x_test)"
   ]
  },
  {
   "cell_type": "code",
   "execution_count": 26,
   "id": "8e187f4e",
   "metadata": {},
   "outputs": [
    {
     "data": {
      "text/plain": [
       "484542.96754595096"
      ]
     },
     "execution_count": 26,
     "metadata": {},
     "output_type": "execute_result"
    }
   ],
   "source": [
    "np.sqrt(mean_squared_error(y_pred,y_test))"
   ]
  },
  {
   "cell_type": "code",
   "execution_count": null,
   "id": "d6feebae",
   "metadata": {},
   "outputs": [],
   "source": []
  }
 ],
 "metadata": {
  "kernelspec": {
   "display_name": "Python 3 (ipykernel)",
   "language": "python",
   "name": "python3"
  },
  "language_info": {
   "codemirror_mode": {
    "name": "ipython",
    "version": 3
   },
   "file_extension": ".py",
   "mimetype": "text/x-python",
   "name": "python",
   "nbconvert_exporter": "python",
   "pygments_lexer": "ipython3",
   "version": "3.10.9"
  }
 },
 "nbformat": 4,
 "nbformat_minor": 5
}
