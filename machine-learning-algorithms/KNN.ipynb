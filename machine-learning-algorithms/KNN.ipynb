{
 "cells": [
  {
   "cell_type": "code",
   "execution_count": 15,
   "id": "daddea75",
   "metadata": {},
   "outputs": [],
   "source": [
    "import numpy as np\n",
    "import pandas as pd\n",
    "from sklearn.model_selection import train_test_split, GridSearchCV\n",
    "from sklearn.metrics import mean_squared_error, r2_score\n",
    "import matplotlib.pyplot as plt\n",
    "from sklearn import model_selection , neighbors\n",
    "from sklearn.neighbors import KNeighborsRegressor\n",
    "\n"
   ]
  },
  {
   "cell_type": "code",
   "execution_count": 16,
   "id": "67b5f19d",
   "metadata": {},
   "outputs": [],
   "source": [
    "from warnings import filterwarnings\n",
    "filterwarnings('ignore')"
   ]
  },
  {
   "cell_type": "markdown",
   "id": "0472b588",
   "metadata": {},
   "source": [
    "# KNN"
   ]
  },
  {
   "cell_type": "code",
   "execution_count": 17,
   "id": "21ce3706",
   "metadata": {},
   "outputs": [],
   "source": [
    "df = pd.read_csv(\"hitters.csv\")\n",
    "df = df.dropna()\n",
    "dms = pd.get_dummies(df[[\"League\",\"Division\",\"NewLeague\"]])\n",
    "y = df[\"Salary\"]\n",
    "x_ = df.drop(['Salary','League','Division',\"NewLeague\"], axis = 1).astype(\"float64\")\n",
    "x = pd.concat([x_,dms[['League_N','Division_W','NewLeague_N']]], axis =1)\n",
    "\n",
    "x_train, x_test, y_train, y_test = train_test_split(x,y, test_size = 0.25, random_state = 42)"
   ]
  },
  {
   "cell_type": "code",
   "execution_count": 18,
   "id": "e6b5236d",
   "metadata": {},
   "outputs": [],
   "source": [
    "knn_model = KNeighborsRegressor().fit(x_train,y_train)"
   ]
  },
  {
   "cell_type": "code",
   "execution_count": 19,
   "id": "96a29a4d",
   "metadata": {},
   "outputs": [
    {
     "data": {
      "text/plain": [
       "5"
      ]
     },
     "execution_count": 19,
     "metadata": {},
     "output_type": "execute_result"
    }
   ],
   "source": [
    "knn_model.n_neighbors # komşu sayısı"
   ]
  },
  {
   "cell_type": "code",
   "execution_count": 20,
   "id": "05480376",
   "metadata": {},
   "outputs": [
    {
     "data": {
      "text/plain": [
       "'minkowski'"
      ]
     },
     "execution_count": 20,
     "metadata": {},
     "output_type": "execute_result"
    }
   ],
   "source": [
    "knn_model.metric"
   ]
  },
  {
   "cell_type": "code",
   "execution_count": 21,
   "id": "d508a1be",
   "metadata": {},
   "outputs": [],
   "source": [
    "y_pred= knn_model.predict(x_test)"
   ]
  },
  {
   "cell_type": "code",
   "execution_count": 22,
   "id": "3eb433f1",
   "metadata": {},
   "outputs": [
    {
     "data": {
      "text/plain": [
       "426.6570764525201"
      ]
     },
     "execution_count": 22,
     "metadata": {},
     "output_type": "execute_result"
    }
   ],
   "source": [
    "np.sqrt(mean_squared_error(y_pred,y_test))"
   ]
  },
  {
   "cell_type": "markdown",
   "id": "b93cf1f3",
   "metadata": {},
   "source": [
    "# Model Tuning\n"
   ]
  },
  {
   "cell_type": "code",
   "execution_count": 27,
   "id": "3ffbadad",
   "metadata": {},
   "outputs": [
    {
     "name": "stdout",
     "output_type": "stream",
     "text": [
      "k= 1  için RMSE değeri: 455.03925390751965\n",
      "k= 2  için RMSE değeri: 415.99629571490965\n",
      "k= 3  için RMSE değeri: 420.6765370082348\n",
      "k= 4  için RMSE değeri: 428.8564674588792\n",
      "k= 5  için RMSE değeri: 426.6570764525201\n",
      "k= 6  için RMSE değeri: 423.5071669008732\n",
      "k= 7  için RMSE değeri: 414.9361222421057\n",
      "k= 8  için RMSE değeri: 413.7094731463598\n",
      "k= 9  için RMSE değeri: 417.84419990871265\n",
      "k= 10  için RMSE değeri: 421.6252180741266\n"
     ]
    }
   ],
   "source": [
    "RMSE = []\n",
    "\n",
    "for k in range(10):\n",
    "    k = k+1\n",
    "    knn_model = KNeighborsRegressor(n_neighbors=k).fit(x_train,y_train)\n",
    "    y_pred = knn_model.predict(x_test)\n",
    "    rmse = np.sqrt(mean_squared_error(y_pred, y_test))\n",
    "    RMSE.append(rmse)\n",
    "    print(\"k=\",k, \" için RMSE değeri:\",rmse)\n",
    "    "
   ]
  },
  {
   "cell_type": "markdown",
   "id": "e71b5531",
   "metadata": {},
   "source": [
    "# GridSearchCV"
   ]
  },
  {
   "cell_type": "code",
   "execution_count": 28,
   "id": "ece48d30",
   "metadata": {},
   "outputs": [],
   "source": [
    "knn_params = {\"n_neighbors\": np.arange(1,30,1)}"
   ]
  },
  {
   "cell_type": "code",
   "execution_count": 30,
   "id": "1cd6e878",
   "metadata": {},
   "outputs": [],
   "source": [
    "knn = KNeighborsRegressor()"
   ]
  },
  {
   "cell_type": "code",
   "execution_count": 31,
   "id": "8597fb36",
   "metadata": {},
   "outputs": [],
   "source": [
    "knn_cv_model = GridSearchCV(knn, knn_params, cv=10).fit(x_train, y_train)"
   ]
  },
  {
   "cell_type": "code",
   "execution_count": 35,
   "id": "42c595e6",
   "metadata": {},
   "outputs": [
    {
     "data": {
      "text/plain": [
       "{'n_neighbors': 8}"
      ]
     },
     "execution_count": 35,
     "metadata": {},
     "output_type": "execute_result"
    }
   ],
   "source": [
    "knn_cv_model.best_params_ # optimum parametre değerini bulduk"
   ]
  },
  {
   "cell_type": "code",
   "execution_count": null,
   "id": "0b56a7f5",
   "metadata": {},
   "outputs": [],
   "source": [
    "# final model\n",
    "knn_tuned = KNeighborsRegressor(n_neighbors=)"
   ]
  }
 ],
 "metadata": {
  "kernelspec": {
   "display_name": "Python 3 (ipykernel)",
   "language": "python",
   "name": "python3"
  },
  "language_info": {
   "codemirror_mode": {
    "name": "ipython",
    "version": 3
   },
   "file_extension": ".py",
   "mimetype": "text/x-python",
   "name": "python",
   "nbconvert_exporter": "python",
   "pygments_lexer": "ipython3",
   "version": "3.10.9"
  }
 },
 "nbformat": 4,
 "nbformat_minor": 5
}
